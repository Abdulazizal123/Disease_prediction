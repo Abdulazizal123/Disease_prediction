{
 "cells": [
  {
   "cell_type": "code",
   "execution_count": 58,
   "id": "d376d201",
   "metadata": {
    "id": "d376d201"
   },
   "outputs": [],
   "source": [
    "# importing libraries\n",
    "import pandas as pd \n",
    "import numpy as np\n",
    "import seaborn as sns\n",
    "%matplotlib inline\n",
    "import matplotlib.pyplot as plt\n",
    "from sklearn import metrics\n",
    "from sklearn.model_selection import cross_val_predict\n",
    "from sklearn.model_selection import cross_val_score\n",
    "from sklearn.metrics import roc_curve\n",
    "from sklearn.metrics import roc_auc_score\n",
    "from sklearn.model_selection import cross_validate\n",
    "from sklearn.metrics import classification_report\n",
    "from sklearn import metrics \n",
    "from sklearn.metrics import make_scorer, accuracy_score, precision_score, recall_score, f1_score\n",
    "from sklearn.model_selection import GridSearchCV, KFold\n",
    "from sklearn.naive_bayes import MultinomialNB\n",
    "from sklearn.naive_bayes import GaussianNB\n",
    "from sklearn.svm import SVC\n",
    "from sklearn.ensemble import RandomForestClassifier\n",
    "from sklearn.tree import DecisionTreeClassifier\n",
    "from sklearn.ensemble import RandomForestClassifier\n",
    "from sklearn.neighbors import KNeighborsClassifier\n",
    "from sklearn.linear_model import LogisticRegression\n",
    "from sklearn.ensemble import StackingClassifier\n",
    "from sklearn.ensemble import AdaBoostClassifier\n",
    "from sklearn.neural_network import MLPClassifier\n",
    "from sklearn.model_selection import StratifiedKFold\n",
    "import xgboost as xgb\n",
    "import joblib"
   ]
  },
  {
   "cell_type": "code",
   "execution_count": 59,
   "id": "6e78e180",
   "metadata": {
    "colab": {
     "base_uri": "https://localhost:8080/",
     "height": 299
    },
    "executionInfo": {
     "elapsed": 766,
     "status": "ok",
     "timestamp": 1678206757970,
     "user": {
      "displayName": "hager saleh",
      "userId": "04961961339784377923"
     },
     "user_tz": -120
    },
    "id": "6e78e180",
    "outputId": "8907e623-741b-494b-a3cf-fed15fec2d68"
   },
   "outputs": [
    {
     "data": {
      "text/html": [
       "<div>\n",
       "<style scoped>\n",
       "    .dataframe tbody tr th:only-of-type {\n",
       "        vertical-align: middle;\n",
       "    }\n",
       "\n",
       "    .dataframe tbody tr th {\n",
       "        vertical-align: top;\n",
       "    }\n",
       "\n",
       "    .dataframe thead th {\n",
       "        text-align: right;\n",
       "    }\n",
       "</style>\n",
       "<table border=\"1\" class=\"dataframe\">\n",
       "  <thead>\n",
       "    <tr style=\"text-align: right;\">\n",
       "      <th></th>\n",
       "      <th>age</th>\n",
       "      <th>bp</th>\n",
       "      <th>sg</th>\n",
       "      <th>al</th>\n",
       "      <th>su</th>\n",
       "      <th>rbc</th>\n",
       "      <th>pc</th>\n",
       "      <th>pcc</th>\n",
       "      <th>ba</th>\n",
       "      <th>bgr</th>\n",
       "      <th>...</th>\n",
       "      <th>pcv</th>\n",
       "      <th>wc</th>\n",
       "      <th>rc</th>\n",
       "      <th>htn</th>\n",
       "      <th>dm</th>\n",
       "      <th>cad</th>\n",
       "      <th>appet</th>\n",
       "      <th>pe</th>\n",
       "      <th>ane</th>\n",
       "      <th>classification</th>\n",
       "    </tr>\n",
       "  </thead>\n",
       "  <tbody>\n",
       "    <tr>\n",
       "      <th>0</th>\n",
       "      <td>44</td>\n",
       "      <td>70</td>\n",
       "      <td>1.025</td>\n",
       "      <td>0</td>\n",
       "      <td>0</td>\n",
       "      <td>0</td>\n",
       "      <td>0</td>\n",
       "      <td>0</td>\n",
       "      <td>0</td>\n",
       "      <td>121</td>\n",
       "      <td>...</td>\n",
       "      <td>48</td>\n",
       "      <td>7800</td>\n",
       "      <td>4.4</td>\n",
       "      <td>0</td>\n",
       "      <td>0</td>\n",
       "      <td>0</td>\n",
       "      <td>0</td>\n",
       "      <td>0</td>\n",
       "      <td>0</td>\n",
       "      <td>notckd</td>\n",
       "    </tr>\n",
       "    <tr>\n",
       "      <th>1</th>\n",
       "      <td>60</td>\n",
       "      <td>90</td>\n",
       "      <td>1.015</td>\n",
       "      <td>3</td>\n",
       "      <td>0</td>\n",
       "      <td>0</td>\n",
       "      <td>0</td>\n",
       "      <td>0</td>\n",
       "      <td>0</td>\n",
       "      <td>74</td>\n",
       "      <td>...</td>\n",
       "      <td>39</td>\n",
       "      <td>7800</td>\n",
       "      <td>4.4</td>\n",
       "      <td>1</td>\n",
       "      <td>1</td>\n",
       "      <td>0</td>\n",
       "      <td>0</td>\n",
       "      <td>1</td>\n",
       "      <td>0</td>\n",
       "      <td>ckd</td>\n",
       "    </tr>\n",
       "    <tr>\n",
       "      <th>2</th>\n",
       "      <td>55</td>\n",
       "      <td>80</td>\n",
       "      <td>1.025</td>\n",
       "      <td>0</td>\n",
       "      <td>0</td>\n",
       "      <td>0</td>\n",
       "      <td>0</td>\n",
       "      <td>0</td>\n",
       "      <td>0</td>\n",
       "      <td>130</td>\n",
       "      <td>...</td>\n",
       "      <td>41</td>\n",
       "      <td>9100</td>\n",
       "      <td>6.0</td>\n",
       "      <td>0</td>\n",
       "      <td>0</td>\n",
       "      <td>0</td>\n",
       "      <td>0</td>\n",
       "      <td>0</td>\n",
       "      <td>0</td>\n",
       "      <td>notckd</td>\n",
       "    </tr>\n",
       "    <tr>\n",
       "      <th>3</th>\n",
       "      <td>62</td>\n",
       "      <td>90</td>\n",
       "      <td>1.020</td>\n",
       "      <td>2</td>\n",
       "      <td>1</td>\n",
       "      <td>0</td>\n",
       "      <td>0</td>\n",
       "      <td>0</td>\n",
       "      <td>0</td>\n",
       "      <td>169</td>\n",
       "      <td>...</td>\n",
       "      <td>47</td>\n",
       "      <td>11000</td>\n",
       "      <td>6.1</td>\n",
       "      <td>1</td>\n",
       "      <td>0</td>\n",
       "      <td>0</td>\n",
       "      <td>0</td>\n",
       "      <td>0</td>\n",
       "      <td>0</td>\n",
       "      <td>ckd</td>\n",
       "    </tr>\n",
       "    <tr>\n",
       "      <th>4</th>\n",
       "      <td>25</td>\n",
       "      <td>60</td>\n",
       "      <td>1.020</td>\n",
       "      <td>0</td>\n",
       "      <td>0</td>\n",
       "      <td>0</td>\n",
       "      <td>0</td>\n",
       "      <td>0</td>\n",
       "      <td>0</td>\n",
       "      <td>119</td>\n",
       "      <td>...</td>\n",
       "      <td>40</td>\n",
       "      <td>9200</td>\n",
       "      <td>5.2</td>\n",
       "      <td>0</td>\n",
       "      <td>0</td>\n",
       "      <td>0</td>\n",
       "      <td>0</td>\n",
       "      <td>0</td>\n",
       "      <td>0</td>\n",
       "      <td>notckd</td>\n",
       "    </tr>\n",
       "  </tbody>\n",
       "</table>\n",
       "<p>5 rows × 25 columns</p>\n",
       "</div>"
      ],
      "text/plain": [
       "   age  bp     sg  al  su  rbc  pc  pcc  ba  bgr  ...  pcv     wc   rc  htn  \\\n",
       "0   44  70  1.025   0   0    0   0    0   0  121  ...   48   7800  4.4    0   \n",
       "1   60  90  1.015   3   0    0   0    0   0   74  ...   39   7800  4.4    1   \n",
       "2   55  80  1.025   0   0    0   0    0   0  130  ...   41   9100  6.0    0   \n",
       "3   62  90  1.020   2   1    0   0    0   0  169  ...   47  11000  6.1    1   \n",
       "4   25  60  1.020   0   0    0   0    0   0  119  ...   40   9200  5.2    0   \n",
       "\n",
       "   dm  cad  appet  pe  ane  classification  \n",
       "0   0    0      0   0    0          notckd  \n",
       "1   1    0      0   1    0             ckd  \n",
       "2   0    0      0   0    0          notckd  \n",
       "3   0    0      0   0    0             ckd  \n",
       "4   0    0      0   0    0          notckd  \n",
       "\n",
       "[5 rows x 25 columns]"
      ]
     },
     "execution_count": 59,
     "metadata": {},
     "output_type": "execute_result"
    }
   ],
   "source": [
    "train= pd.read_csv(\"train_datasetset1.csv\")\n",
    "train.head()"
   ]
  },
  {
   "cell_type": "code",
   "execution_count": 60,
   "id": "e91dfe5b",
   "metadata": {},
   "outputs": [
    {
     "data": {
      "text/plain": [
       "classification\n",
       "ckd       200\n",
       "notckd    120\n",
       "Name: count, dtype: int64"
      ]
     },
     "execution_count": 60,
     "metadata": {},
     "output_type": "execute_result"
    }
   ],
   "source": [
    "train['classification'].value_counts()"
   ]
  },
  {
   "cell_type": "code",
   "execution_count": 61,
   "id": "bcf9f0b1",
   "metadata": {},
   "outputs": [],
   "source": [
    "from sklearn.preprocessing import LabelEncoder\n",
    "for i in train.columns:\n",
    "    if train[i].dtype=='object':\n",
    "        train[i]=LabelEncoder().fit_transform(train[i])\n"
   ]
  },
  {
   "cell_type": "code",
   "execution_count": 62,
   "id": "75ee8251",
   "metadata": {},
   "outputs": [],
   "source": [
    "X_train=train.drop(['classification'],axis = 1 )\n",
    "y_train=train['classification']"
   ]
  },
  {
   "cell_type": "code",
   "execution_count": 63,
   "id": "9949a347",
   "metadata": {},
   "outputs": [],
   "source": [
    "test= pd.read_csv(\"unseen_dataset1.csv\")\n",
    "for i in test.columns:\n",
    "    if test[i].dtype=='object':\n",
    "        test[i]=LabelEncoder().fit_transform(test[i])"
   ]
  },
  {
   "cell_type": "code",
   "execution_count": 64,
   "id": "6b9ba8df",
   "metadata": {},
   "outputs": [],
   "source": [
    "y_test=test['classification']\n",
    "X_test=test.drop(['classification'],axis = 1 )"
   ]
  },
  {
   "cell_type": "code",
   "execution_count": 65,
   "id": "96a6fd1e",
   "metadata": {
    "id": "96a6fd1e"
   },
   "outputs": [],
   "source": [
    "model_params = {\n",
    "    \n",
    "    'RF': {\n",
    "        'model': RandomForestClassifier(),\n",
    "        'params' : {\n",
    "            'max_depth' : [20,10,5,7],\n",
    "\n",
    "        }\n",
    "    },\n",
    "    'LR' : {\n",
    "        'model': LogisticRegression(),\n",
    "        'params': {\n",
    "            \"solver\" : ['newton-cg','lbfgs','liblinear','sag','saga']\n",
    "\n",
    "                     \n",
    "        }}\n",
    "    ,\n",
    "    'DT': {\n",
    "        'model': DecisionTreeClassifier(),\n",
    "        'params': {\n",
    "       \n",
    "            'max_depth' : [20,10,5,7]\n",
    "        }\n",
    "        \n",
    "    }  \n",
    "    ,\n",
    "   \n",
    " 'SVM': {\n",
    "     'model': SVC(probability=True),\n",
    "    'params':  {\n",
    "                'kernel': ['linear','rbf','poly',]\n",
    "    }},\n",
    "\n",
    "    \n",
    "  'NB': {\n",
    "     'model': GaussianNB(),\n",
    "    'params':  {\n",
    "      'var_smoothing': np.logspace(0,-9, num=100)\n",
    "    }\n",
    "      \n",
    " },\n",
    "    \n",
    "    \n",
    "   } \n",
    "\n",
    "   "
   ]
  },
  {
   "cell_type": "code",
   "execution_count": 66,
   "id": "e80d1d9e",
   "metadata": {
    "colab": {
     "base_uri": "https://localhost:8080/"
    },
    "executionInfo": {
     "elapsed": 234,
     "status": "ok",
     "timestamp": 1678206828917,
     "user": {
      "displayName": "hager saleh",
      "userId": "04961961339784377923"
     },
     "user_tz": -120
    },
    "id": "e80d1d9e",
    "outputId": "f6b111a5-1113-4966-fc53-b293ddbd2b2b"
   },
   "outputs": [
    {
     "name": "stdout",
     "output_type": "stream",
     "text": [
      "RF\n",
      "LR\n",
      "DT\n",
      "SVM\n",
      "NB\n"
     ]
    }
   ],
   "source": [
    "for model_name, mp in model_params.items():\n",
    "    print(model_name)"
   ]
  },
  {
   "cell_type": "code",
   "execution_count": 67,
   "id": "32d13a01",
   "metadata": {},
   "outputs": [],
   "source": [
    "scoring = {'accuracy' : make_scorer(accuracy_score), \n",
    "           'precision' : make_scorer(precision_score, average='weighted'),\n",
    "           'recall' : make_scorer(recall_score, average='weighted'), \n",
    "           'f1' : make_scorer(f1_score, average='weighted')}\n"
   ]
  },
  {
   "cell_type": "code",
   "execution_count": null,
   "id": "21465629",
   "metadata": {
    "colab": {
     "base_uri": "https://localhost:8080/",
     "height": 1000
    },
    "executionInfo": {
     "elapsed": 1289361,
     "status": "ok",
     "timestamp": 1678208127745,
     "user": {
      "displayName": "hager saleh",
      "userId": "04961961339784377923"
     },
     "user_tz": -120
    },
    "id": "21465629",
    "outputId": "0858a4f6-c35e-48ef-a173-d78c37352626",
    "scrolled": true
   },
   "outputs": [],
   "source": [
    "import warnings\n",
    "warnings.filterwarnings('ignore')\n",
    "scores = []\n",
    "model={}\n",
    "for model_name, mp in model_params.items():\n",
    "    clf =  GridSearchCV(mp['model'], mp['params'], cv=10, scoring =make_scorer(f1_score, average='weighted'),return_train_score=False)\n",
    "    clf.fit(X_train, y_train)\n",
    "    scores.append({\n",
    "        'model': model_name,\n",
    "        'best_score': clf.best_score_,\n",
    "        'best_params': clf.best_params_\n",
    "    })\n",
    "   \n",
    "    model[model_name]=clf.best_estimator_\n",
    "df = pd.DataFrame(scores,columns=['model','best_score','best_params'])\n",
    "df"
   ]
  },
  {
   "cell_type": "code",
   "execution_count": null,
   "id": "2515eb8f",
   "metadata": {},
   "outputs": [],
   "source": [
    "clf = [('RF', model['RF']),('LR', model['LR']), ('DT', model['DT']), ('SVM', model['SVM']), ('NB', model['NB']), ] \n",
    "stack_model = StackingClassifier(estimators = clf,final_estimator =RandomForestClassifier())\n",
    "stacking = stack_model.fit(X_train,y_train)"
   ]
  },
  {
   "cell_type": "code",
   "execution_count": null,
   "id": "b4917b4b-9ab9-4fb8-8aa0-1244b66400f4",
   "metadata": {},
   "outputs": [],
   "source": [
    "model.update({'Stacking':stacking} )"
   ]
  },
  {
   "cell_type": "code",
   "execution_count": null,
   "id": "3d00fae5",
   "metadata": {},
   "outputs": [],
   "source": [
    "def evaluate_models(models, X_train, X_val, y_train, y_val):\n",
    " \n",
    "    scores = list()\n",
    "    for name, model in models:\n",
    "\n",
    "        yhat = model.predict(X_val)\n",
    "        acc = accuracy_score(y_val, yhat)\n",
    "        \n",
    "        scores.append(acc)\n",
    "        # report model performance\n",
    "    return scores\n",
    " "
   ]
  },
  {
   "cell_type": "code",
   "execution_count": null,
   "id": "d0d9681c",
   "metadata": {
    "colab": {
     "base_uri": "https://localhost:8080/"
    },
    "executionInfo": {
     "elapsed": 6644,
     "status": "ok",
     "timestamp": 1678208134382,
     "user": {
      "displayName": "hager saleh",
      "userId": "04961961339784377923"
     },
     "user_tz": -120
    },
    "id": "d0d9681c",
    "outputId": "3d803d06-664b-4c6d-cea5-e58fea156975"
   },
   "outputs": [],
   "source": [
    "\n",
    "ReultofTest=pd.DataFrame([])\n",
    "\n",
    "\n",
    "for model_name, i in model.items():   \n",
    "    Model=i\n",
    "\n",
    "    AccuracyTest=[]\n",
    "    PrecisionTest=[]\n",
    "    RecallTest=[]\n",
    "    F1Test=[]\n",
    "    \n",
    "    \n",
    "\n",
    "    \n",
    "    for i in range(0,1):\n",
    "        if i==0:\n",
    "            r=70\n",
    "        elif i== 1:\n",
    "            r=80\n",
    "        elif i== 2:\n",
    "            r=90\n",
    "\n",
    "        SFold = StratifiedKFold(n_splits=10,  shuffle=True,random_state=r)\n",
    "        Train_Score = cross_validate(Model, X_train, y_train, scoring=scoring,  cv=SFold)\n",
    "  \n",
    "       \n",
    "        \n",
    "        y_pred = Model.predict(X_test)\n",
    "    \n",
    "     \n",
    "       \n",
    "        Accuracy_Test= accuracy_score(y_test,y_pred)\n",
    "        Precision_Test=precision_score(y_test, y_pred, average='weighted')\n",
    "        Recall_Test=recall_score(y_test, y_pred, average='weighted')\n",
    "        F1_Test=f1_score(y_test, y_pred, average='weighted') \n",
    "        \n",
    "        \n",
    "        \n",
    "        \n",
    "        AccuracyTest.append(round(100*Accurcy_Test, 2))\n",
    "        PrecisionTest.append(round(100*Precision_Test, 2))\n",
    "        RecallTest.append(round(100*Recall_Test, 2))\n",
    "        F1Test.append(round(100*F1_Test, 2)) \n",
    "       \n",
    "      \n",
    "     \n",
    " \n",
    "        \n",
    "        finalSTD.reindex(['model','Accuracy','Precision','Recall','F1'], axis=1)\n",
    "    \n",
    "        ReultofTest=ReultofTest._append({'model':model_name,\n",
    "                                        'AccuracyTest' : round(np.mean(AccuracyTest),2),\n",
    "                                        'PrecisionTest':round(np.mean(PrecisionTest),2),\n",
    "                                        'RecallTest' : round(np.mean(RecallTest),2),'F1Test':round(np.mean(F1Test),2),\n",
    "                                  \n",
    "                                       }, ignore_index=True)\n",
    "        \n",
    "        ReultofTest.reindex(['model','Accuracy','Precision','Recall','F1'],axis=1)\n",
    "       "
   ]
  },
  {
   "cell_type": "markdown",
   "id": "f3d9fd31",
   "metadata": {},
   "source": [
    "# Result of testing"
   ]
  },
  {
   "cell_type": "code",
   "execution_count": null,
   "id": "dfd5c5ea",
   "metadata": {},
   "outputs": [],
   "source": [
    "ReultofTest"
   ]
  },
  {
   "cell_type": "code",
   "execution_count": null,
   "id": "9f061b83",
   "metadata": {
    "colab": {
     "base_uri": "https://localhost:8080/"
    },
    "executionInfo": {
     "elapsed": 31,
     "status": "ok",
     "timestamp": 1678208134384,
     "user": {
      "displayName": "hager saleh",
      "userId": "04961961339784377923"
     },
     "user_tz": -120
    },
    "id": "9f061b83",
    "outputId": "fed80fad-a5c4-4258-905f-908aff30db25"
   },
   "outputs": [],
   "source": [
    "h=ReultofTest.iloc[:, 1::]\n",
    "from IPython.display import HTML\n",
    "\n",
    "HTML(h.to_html(index=False))"
   ]
  },
  {
   "cell_type": "code",
   "execution_count": null,
   "id": "a7d1218e",
   "metadata": {},
   "outputs": [],
   "source": [
    "classifiers = {'RF': model['RF'],'LR': model['LR'], 'DT': model['DT'], \n",
    "               'SVM': model['SVM'],   'NB': model['NB'], \n",
    "               \n",
    "               \n",
    "               'Stacking': model['Stacking']}\n",
    "\n",
    "# Define a result table as a DataFrame\n",
    "result_table = pd.DataFrame(columns=['classifiers', 'fpr','tpr','auc'])\n",
    "\n",
    "# Train the models and record the results\n",
    "for k,v in classifiers.items():\n",
    "   \n",
    "\n",
    "    \n",
    "    predicted = v.predict(X_test)\n",
    "\n",
    "    #predicted = np.argmax(predicted_proba, axis = 1)\n",
    "    fpr, tpr, _ = roc_curve(y_test,  predicted)\n",
    "    auc = round(roc_auc_score(y_test, predicted),5)*100\n",
    "    \n",
    "    result_table = result_table._append({'classifiers':k,\n",
    "                                        'fpr':fpr, \n",
    "                                        'tpr':tpr, \n",
    "                                        'auc':auc}, ignore_index=True)\n",
    "\n",
    "# Set name of the classifiers as index labels\n",
    "result_table.set_index('classifiers', inplace=True)\n"
   ]
  },
  {
   "cell_type": "code",
   "execution_count": null,
   "id": "1102ed14",
   "metadata": {},
   "outputs": [],
   "source": [
    "fig = plt.figure(figsize=(8,6))\n",
    "\n",
    "for i in result_table.index:\n",
    "    plt.plot(result_table.loc[i]['fpr'], \n",
    "             result_table.loc[i]['tpr'], \n",
    "             label=\"{}, AUC={:.3f}\".format(i, result_table.loc[i]['auc']))\n",
    "    \n",
    "plt.plot([0,1], [0,1], color='orange', linestyle='--')\n",
    "\n",
    "plt.xticks(np.arange(0.0, 1.1, step=0.1))\n",
    "plt.xlabel(\"Flase Positive Rate\", fontsize=15)\n",
    "\n",
    "plt.yticks(np.arange(0.0, 1.1, step=0.1))\n",
    "plt.ylabel(\"True Positive Rate\", fontsize=15)\n",
    "\n",
    "plt.title('ROC Curve Analysis', fontweight='bold', fontsize=15)\n",
    "plt.legend(prop={'size':13}, loc='lower right')\n",
    "\n",
    "plt.show()"
   ]
  },
  {
   "cell_type": "code",
   "execution_count": null,
   "id": "b8beead7",
   "metadata": {},
   "outputs": [],
   "source": []
  },
  {
   "cell_type": "code",
   "execution_count": null,
   "id": "97715e0d",
   "metadata": {},
   "outputs": [],
   "source": []
  }
 ],
 "metadata": {
  "accelerator": "GPU",
  "colab": {
   "machine_shape": "hm",
   "provenance": []
  },
  "gpuClass": "premium",
  "kernelspec": {
   "display_name": "Python 3 (ipykernel)",
   "language": "python",
   "name": "python3"
  },
  "language_info": {
   "codemirror_mode": {
    "name": "ipython",
    "version": 3
   },
   "file_extension": ".py",
   "mimetype": "text/x-python",
   "name": "python",
   "nbconvert_exporter": "python",
   "pygments_lexer": "ipython3",
   "version": "3.10.14"
  }
 },
 "nbformat": 4,
 "nbformat_minor": 5
}
